{
 "cells": [
  {
   "cell_type": "code",
   "execution_count": 10,
   "metadata": {},
   "outputs": [
    {
     "name": "stdout",
     "output_type": "stream",
     "text": [
      "EIA860_20-23/eia8602020\n",
      "EIA860_20-23/eia8602021\n",
      "EIA860_20-23/eia8602022\n",
      "EIA860_20-23/eia8602023\n"
     ]
    }
   ],
   "source": [
    "import os\n",
    "\n",
    "# 定义母文件夹路径\n",
    "base_path = 'EIA860_20-23'\n",
    "\n",
    "# 定义年份列表\n",
    "years = ['2020', '2021', '2022', '2023']\n",
    "\n",
    "# 获取子文件夹路径列表\n",
    "subfolders = [os.path.join(base_path, f\"eia860{year}\") for year in years]\n",
    "\n",
    "# 打印子文件夹路径\n",
    "for subfolder in subfolders:\n",
    "    print(subfolder)"
   ]
  },
  {
   "cell_type": "code",
   "execution_count": 12,
   "metadata": {},
   "outputs": [
    {
     "name": "stdout",
     "output_type": "stream",
     "text": [
      "EIA860_20-23/eia8602020/4_Owner.xlsx: Header\n",
      "EIA860_20-23/eia8602020/2_Plant.xlsx: Header\n",
      "EIA860_20-23/eia8602020/3_3_Solar.xlsx: Header\n",
      "EIA860_20-23/eia8602020/1_Utility.xlsx: Header\n",
      "EIA860_20-23/eia8602020/LayoutY2020.xlsx: No Header\n",
      "EIA860_20-23/eia8602020/3_1_Generator.xlsx: Header\n",
      "EIA860_20-23/eia8602020/EIA-860 Form.xlsx: No Header\n"
     ]
    },
    {
     "name": "stderr",
     "output_type": "stream",
     "text": [
      "/Users/jesmyn/opt/anaconda3/lib/python3.9/site-packages/openpyxl/worksheet/_read_only.py:79: UserWarning: Data Validation extension is not supported and will be removed\n",
      "  for idx, row in parser.parse():\n"
     ]
    },
    {
     "name": "stdout",
     "output_type": "stream",
     "text": [
      "EIA860_20-23/eia8602020/6_1_EnviroAssoc.xlsx: No Header\n",
      "EIA860_20-23/eia8602020/3_5_Multifuel.xlsx: No Header\n",
      "EIA860_20-23/eia8602020/3_2_Wind.xlsx: Header\n",
      "EIA860_20-23/eia8602020/3_4_Energy_Storage.xlsx: Header\n",
      "EIA860_20-23/eia8602020/6_2_EnviroEquip.xlsx: No Header\n",
      "EIA860_20-23/eia8602021/4_Owner.xlsx: Header\n",
      "EIA860_20-23/eia8602021/LayoutY2021.xlsx: No Header\n",
      "EIA860_20-23/eia8602021/2_Plant.xlsx: Header\n",
      "EIA860_20-23/eia8602021/3_3_Solar.xlsx: Header\n",
      "EIA860_20-23/eia8602021/1_Utility.xlsx: Header\n",
      "EIA860_20-23/eia8602021/3_1_Generator.xlsx: Header\n",
      "EIA860_20-23/eia8602021/6_1_EnviroAssoc.xlsx: No Header\n",
      "EIA860_20-23/eia8602021/3_5_Multifuel.xlsx: No Header\n",
      "EIA860_20-23/eia8602021/EIA-860 Form 2021.xlsx: No Header\n"
     ]
    },
    {
     "name": "stderr",
     "output_type": "stream",
     "text": [
      "/Users/jesmyn/opt/anaconda3/lib/python3.9/site-packages/openpyxl/worksheet/_read_only.py:79: UserWarning: Data Validation extension is not supported and will be removed\n",
      "  for idx, row in parser.parse():\n"
     ]
    },
    {
     "name": "stdout",
     "output_type": "stream",
     "text": [
      "EIA860_20-23/eia8602021/3_2_Wind.xlsx: Header\n",
      "EIA860_20-23/eia8602021/3_4_Energy_Storage.xlsx: Header\n",
      "EIA860_20-23/eia8602021/6_2_EnviroEquip.xlsx: No Header\n",
      "EIA860_20-23/eia8602022/4_Owner.xlsx: Header\n",
      "EIA860_20-23/eia8602022/2_Plant.xlsx: Header\n",
      "EIA860_20-23/eia8602022/3_3_Solar.xlsx: Header\n",
      "EIA860_20-23/eia8602022/1_Utility.xlsx: Header\n",
      "EIA860_20-23/eia8602022/EIA-860 Form 2022.xlsx: No Header\n"
     ]
    },
    {
     "name": "stderr",
     "output_type": "stream",
     "text": [
      "/Users/jesmyn/opt/anaconda3/lib/python3.9/site-packages/openpyxl/worksheet/_read_only.py:79: UserWarning: Data Validation extension is not supported and will be removed\n",
      "  for idx, row in parser.parse():\n"
     ]
    },
    {
     "name": "stdout",
     "output_type": "stream",
     "text": [
      "EIA860_20-23/eia8602022/3_1_Generator.xlsx: Header\n",
      "EIA860_20-23/eia8602022/6_1_EnviroAssoc.xlsx: No Header\n",
      "EIA860_20-23/eia8602022/3_5_Multifuel.xlsx: No Header\n",
      "EIA860_20-23/eia8602022/3_2_Wind.xlsx: Header\n",
      "EIA860_20-23/eia8602022/3_4_Energy_Storage.xlsx: Header\n",
      "EIA860_20-23/eia8602022/6_2_EnviroEquip.xlsx: No Header\n",
      "EIA860_20-23/eia8602022/LayoutY2022.xlsx: No Header\n",
      "EIA860_20-23/eia8602023/4_Owner.xlsx: No Header\n",
      "EIA860_20-23/eia8602023/2_Plant.xlsx: No Header\n",
      "EIA860_20-23/eia8602023/3_3_Solar.xlsx: No Header\n",
      "EIA860_20-23/eia8602023/1_Utility.xlsx: No Header\n",
      "EIA860_20-23/eia8602023/3_1_Generator.xlsx: No Header\n",
      "EIA860_20-23/eia8602023/EIA-860 Form.xlsx: No Header\n"
     ]
    },
    {
     "name": "stderr",
     "output_type": "stream",
     "text": [
      "/Users/jesmyn/opt/anaconda3/lib/python3.9/site-packages/openpyxl/worksheet/_read_only.py:79: UserWarning: Data Validation extension is not supported and will be removed\n",
      "  for idx, row in parser.parse():\n"
     ]
    },
    {
     "name": "stdout",
     "output_type": "stream",
     "text": [
      "EIA860_20-23/eia8602023/6_1_EnviroAssoc.xlsx: No Header\n",
      "EIA860_20-23/eia8602023/3_5_Multifuel.xlsx: No Header\n",
      "EIA860_20-23/eia8602023/LayoutY2023.xlsx: No Header\n",
      "EIA860_20-23/eia8602023/3_2_Wind.xlsx: No Header\n",
      "EIA860_20-23/eia8602023/3_4_Energy_Storage.xlsx: No Header\n",
      "EIA860_20-23/eia8602023/6_2_EnviroEquip.xlsx: No Header\n"
     ]
    }
   ],
   "source": [
    "import pandas as pd\n",
    "\n",
    "# 定义一个函数来检查第一行是否是标题行\n",
    "def check_header(file_path):\n",
    "    try:\n",
    "        df = pd.read_excel(file_path, header=None)\n",
    "        first_row = df.iloc[0]\n",
    "        if all(isinstance(x, str) for x in first_row):\n",
    "            return True\n",
    "        else:\n",
    "            return False\n",
    "    except Exception as e:\n",
    "        print(f\"Error reading {file_path}: {e}\")\n",
    "        return False\n",
    "\n",
    "# 遍历每个子文件夹和其中的每个Excel文件\n",
    "for subfolder in subfolders:\n",
    "    xlsx_files = [f for f in os.listdir(subfolder) if f.endswith('.xlsx')]\n",
    "    for xlsx_file in xlsx_files:\n",
    "        file_path = os.path.join(subfolder, xlsx_file)\n",
    "        is_header = check_header(file_path)\n",
    "        print(f\"{file_path}: {'Header' if is_header else 'No Header'}\")"
   ]
  },
  {
   "cell_type": "code",
   "execution_count": 14,
   "metadata": {},
   "outputs": [
    {
     "name": "stdout",
     "output_type": "stream",
     "text": [
      "First row is a header in EIA860_20-23/eia8602020/4_Owner.xlsx\n",
      "EIA860_20-23/eia8602020/4_Owner.xlsx: Header\n",
      "First row is a header in EIA860_20-23/eia8602020/2_Plant.xlsx\n",
      "EIA860_20-23/eia8602020/2_Plant.xlsx: Header\n",
      "First row is a header in EIA860_20-23/eia8602020/3_3_Solar.xlsx\n",
      "EIA860_20-23/eia8602020/3_3_Solar.xlsx: Header\n",
      "First row is a header in EIA860_20-23/eia8602020/1_Utility.xlsx\n",
      "EIA860_20-23/eia8602020/1_Utility.xlsx: Header\n",
      "First row cleared in EIA860_20-23/eia8602020/LayoutY2020.xlsx\n",
      "EIA860_20-23/eia8602020/LayoutY2020.xlsx: No Header\n",
      "Error processing EIA860_20-23/eia8602020/~$LayoutY2020.xlsx: Excel file format cannot be determined, you must specify an engine manually.\n",
      "Error reading EIA860_20-23/eia8602020/~$LayoutY2020.xlsx: Excel file format cannot be determined, you must specify an engine manually.\n",
      "EIA860_20-23/eia8602020/~$LayoutY2020.xlsx: No Header\n",
      "First row is a header in EIA860_20-23/eia8602020/3_1_Generator.xlsx\n",
      "EIA860_20-23/eia8602020/3_1_Generator.xlsx: Header\n",
      "First row cleared in EIA860_20-23/eia8602020/EIA-860 Form.xlsx\n",
      "EIA860_20-23/eia8602020/EIA-860 Form.xlsx: No Header\n",
      "First row is a header in EIA860_20-23/eia8602020/6_1_EnviroAssoc.xlsx\n",
      "EIA860_20-23/eia8602020/6_1_EnviroAssoc.xlsx: Header\n",
      "Error processing EIA860_20-23/eia8602020/3_5_Multifuel.xlsx: File is not a zip file\n",
      "Error reading EIA860_20-23/eia8602020/3_5_Multifuel.xlsx: File is not a zip file\n",
      "EIA860_20-23/eia8602020/3_5_Multifuel.xlsx: No Header\n",
      "First row is a header in EIA860_20-23/eia8602020/3_2_Wind.xlsx\n",
      "EIA860_20-23/eia8602020/3_2_Wind.xlsx: Header\n",
      "First row is a header in EIA860_20-23/eia8602020/3_4_Energy_Storage.xlsx\n",
      "EIA860_20-23/eia8602020/3_4_Energy_Storage.xlsx: Header\n",
      "First row cleared in EIA860_20-23/eia8602020/6_2_EnviroEquip.xlsx\n",
      "EIA860_20-23/eia8602020/6_2_EnviroEquip.xlsx: No Header\n",
      "First row is a header in EIA860_20-23/eia8602021/4_Owner.xlsx\n",
      "EIA860_20-23/eia8602021/4_Owner.xlsx: Header\n",
      "First row cleared in EIA860_20-23/eia8602021/LayoutY2021.xlsx\n",
      "EIA860_20-23/eia8602021/LayoutY2021.xlsx: No Header\n",
      "First row is a header in EIA860_20-23/eia8602021/2_Plant.xlsx\n",
      "EIA860_20-23/eia8602021/2_Plant.xlsx: Header\n",
      "First row is a header in EIA860_20-23/eia8602021/3_3_Solar.xlsx\n",
      "EIA860_20-23/eia8602021/3_3_Solar.xlsx: Header\n",
      "First row is a header in EIA860_20-23/eia8602021/1_Utility.xlsx\n",
      "EIA860_20-23/eia8602021/1_Utility.xlsx: Header\n",
      "First row is a header in EIA860_20-23/eia8602021/3_1_Generator.xlsx\n",
      "EIA860_20-23/eia8602021/3_1_Generator.xlsx: Header\n",
      "First row cleared in EIA860_20-23/eia8602021/6_1_EnviroAssoc.xlsx\n",
      "EIA860_20-23/eia8602021/6_1_EnviroAssoc.xlsx: No Header\n",
      "First row cleared in EIA860_20-23/eia8602021/3_5_Multifuel.xlsx\n",
      "EIA860_20-23/eia8602021/3_5_Multifuel.xlsx: No Header\n",
      "First row cleared in EIA860_20-23/eia8602021/EIA-860 Form 2021.xlsx\n",
      "EIA860_20-23/eia8602021/EIA-860 Form 2021.xlsx: No Header\n"
     ]
    },
    {
     "name": "stderr",
     "output_type": "stream",
     "text": [
      "/Users/jesmyn/opt/anaconda3/lib/python3.9/site-packages/openpyxl/worksheet/_read_only.py:79: UserWarning: Data Validation extension is not supported and will be removed\n",
      "  for idx, row in parser.parse():\n"
     ]
    },
    {
     "name": "stdout",
     "output_type": "stream",
     "text": [
      "First row is a header in EIA860_20-23/eia8602021/3_2_Wind.xlsx\n",
      "EIA860_20-23/eia8602021/3_2_Wind.xlsx: Header\n",
      "First row is a header in EIA860_20-23/eia8602021/3_4_Energy_Storage.xlsx\n",
      "EIA860_20-23/eia8602021/3_4_Energy_Storage.xlsx: Header\n",
      "First row cleared in EIA860_20-23/eia8602021/6_2_EnviroEquip.xlsx\n",
      "EIA860_20-23/eia8602021/6_2_EnviroEquip.xlsx: No Header\n",
      "First row is a header in EIA860_20-23/eia8602022/4_Owner.xlsx\n",
      "EIA860_20-23/eia8602022/4_Owner.xlsx: Header\n",
      "First row is a header in EIA860_20-23/eia8602022/2_Plant.xlsx\n",
      "EIA860_20-23/eia8602022/2_Plant.xlsx: Header\n",
      "First row is a header in EIA860_20-23/eia8602022/3_3_Solar.xlsx\n",
      "EIA860_20-23/eia8602022/3_3_Solar.xlsx: Header\n",
      "First row is a header in EIA860_20-23/eia8602022/1_Utility.xlsx\n",
      "EIA860_20-23/eia8602022/1_Utility.xlsx: Header\n",
      "First row cleared in EIA860_20-23/eia8602022/EIA-860 Form 2022.xlsx\n",
      "EIA860_20-23/eia8602022/EIA-860 Form 2022.xlsx: No Header\n"
     ]
    },
    {
     "name": "stderr",
     "output_type": "stream",
     "text": [
      "/Users/jesmyn/opt/anaconda3/lib/python3.9/site-packages/openpyxl/worksheet/_read_only.py:79: UserWarning: Data Validation extension is not supported and will be removed\n",
      "  for idx, row in parser.parse():\n"
     ]
    },
    {
     "name": "stdout",
     "output_type": "stream",
     "text": [
      "First row is a header in EIA860_20-23/eia8602022/3_1_Generator.xlsx\n",
      "EIA860_20-23/eia8602022/3_1_Generator.xlsx: Header\n",
      "First row cleared in EIA860_20-23/eia8602022/6_1_EnviroAssoc.xlsx\n",
      "EIA860_20-23/eia8602022/6_1_EnviroAssoc.xlsx: No Header\n",
      "First row cleared in EIA860_20-23/eia8602022/3_5_Multifuel.xlsx\n",
      "EIA860_20-23/eia8602022/3_5_Multifuel.xlsx: No Header\n",
      "First row is a header in EIA860_20-23/eia8602022/3_2_Wind.xlsx\n",
      "EIA860_20-23/eia8602022/3_2_Wind.xlsx: Header\n",
      "First row is a header in EIA860_20-23/eia8602022/3_4_Energy_Storage.xlsx\n",
      "EIA860_20-23/eia8602022/3_4_Energy_Storage.xlsx: Header\n",
      "First row cleared in EIA860_20-23/eia8602022/6_2_EnviroEquip.xlsx\n",
      "EIA860_20-23/eia8602022/6_2_EnviroEquip.xlsx: No Header\n",
      "First row cleared in EIA860_20-23/eia8602022/LayoutY2022.xlsx\n",
      "EIA860_20-23/eia8602022/LayoutY2022.xlsx: No Header\n",
      "First row cleared in EIA860_20-23/eia8602023/4_Owner.xlsx\n",
      "EIA860_20-23/eia8602023/4_Owner.xlsx: No Header\n",
      "First row cleared in EIA860_20-23/eia8602023/2_Plant.xlsx\n",
      "EIA860_20-23/eia8602023/2_Plant.xlsx: No Header\n",
      "First row cleared in EIA860_20-23/eia8602023/3_3_Solar.xlsx\n",
      "EIA860_20-23/eia8602023/3_3_Solar.xlsx: No Header\n",
      "First row cleared in EIA860_20-23/eia8602023/1_Utility.xlsx\n",
      "EIA860_20-23/eia8602023/1_Utility.xlsx: No Header\n",
      "First row cleared in EIA860_20-23/eia8602023/3_1_Generator.xlsx\n",
      "EIA860_20-23/eia8602023/3_1_Generator.xlsx: No Header\n",
      "First row cleared in EIA860_20-23/eia8602023/EIA-860 Form.xlsx\n",
      "EIA860_20-23/eia8602023/EIA-860 Form.xlsx: No Header\n"
     ]
    },
    {
     "name": "stderr",
     "output_type": "stream",
     "text": [
      "/Users/jesmyn/opt/anaconda3/lib/python3.9/site-packages/openpyxl/worksheet/_read_only.py:79: UserWarning: Data Validation extension is not supported and will be removed\n",
      "  for idx, row in parser.parse():\n"
     ]
    },
    {
     "name": "stdout",
     "output_type": "stream",
     "text": [
      "First row cleared in EIA860_20-23/eia8602023/6_1_EnviroAssoc.xlsx\n",
      "EIA860_20-23/eia8602023/6_1_EnviroAssoc.xlsx: No Header\n",
      "First row cleared in EIA860_20-23/eia8602023/3_5_Multifuel.xlsx\n",
      "EIA860_20-23/eia8602023/3_5_Multifuel.xlsx: No Header\n",
      "First row cleared in EIA860_20-23/eia8602023/LayoutY2023.xlsx\n",
      "EIA860_20-23/eia8602023/LayoutY2023.xlsx: No Header\n",
      "First row cleared in EIA860_20-23/eia8602023/3_2_Wind.xlsx\n",
      "EIA860_20-23/eia8602023/3_2_Wind.xlsx: No Header\n",
      "First row cleared in EIA860_20-23/eia8602023/3_4_Energy_Storage.xlsx\n",
      "EIA860_20-23/eia8602023/3_4_Energy_Storage.xlsx: No Header\n",
      "First row cleared in EIA860_20-23/eia8602023/6_2_EnviroEquip.xlsx\n",
      "EIA860_20-23/eia8602023/6_2_EnviroEquip.xlsx: No Header\n"
     ]
    }
   ],
   "source": [
    "def clear_first_row_if_no_header(file_path):\n",
    "    try:\n",
    "        df = pd.read_excel(file_path, header=None)\n",
    "        first_row = df.iloc[0]\n",
    "        if not all(isinstance(x, str) for x in first_row):\n",
    "            df.iloc[0] = [None] * len(df.columns)\n",
    "            df.to_excel(file_path, index=False, header=False)\n",
    "            print(f\"First row cleared in {file_path}\")\n",
    "        else:\n",
    "            print(f\"First row is a header in {file_path}\")\n",
    "    except Exception as e:\n",
    "        print(f\"Error processing {file_path}: {e}\")\n",
    "\n",
    "# 遍历每个子文件夹和其中的每个Excel文件\n",
    "for subfolder in subfolders:\n",
    "    xlsx_files = [f for f in os.listdir(subfolder) if f.endswith('.xlsx')]\n",
    "    for xlsx_file in xlsx_files:\n",
    "        file_path = os.path.join(subfolder, xlsx_file)\n",
    "        clear_first_row_if_no_header(file_path)\n",
    "        is_header = check_header(file_path)\n",
    "        print(f\"{file_path}: {'Header' if is_header else 'No Header'}\")"
   ]
  }
 ],
 "metadata": {
  "kernelspec": {
   "display_name": "base",
   "language": "python",
   "name": "python3"
  },
  "language_info": {
   "codemirror_mode": {
    "name": "ipython",
    "version": 3
   },
   "file_extension": ".py",
   "mimetype": "text/x-python",
   "name": "python",
   "nbconvert_exporter": "python",
   "pygments_lexer": "ipython3",
   "version": "3.9.13"
  }
 },
 "nbformat": 4,
 "nbformat_minor": 2
}
